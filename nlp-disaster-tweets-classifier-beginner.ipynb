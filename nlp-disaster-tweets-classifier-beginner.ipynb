{
 "cells": [
  {
   "cell_type": "markdown",
   "metadata": {
    "papermill": {
     "duration": 0.030421,
     "end_time": "2021-02-14T13:06:46.966981",
     "exception": false,
     "start_time": "2021-02-14T13:06:46.936560",
     "status": "completed"
    },
    "tags": []
   },
   "source": [
    "# **Import modules to attach and read the dataset**"
   ]
  },
  {
   "cell_type": "code",
   "execution_count": 1,
   "metadata": {
    "_cell_guid": "b1076dfc-b9ad-4769-8c92-a6c4dae69d19",
    "_uuid": "8f2839f25d086af736a60e9eeb907d3b93b6e0e5",
    "execution": {
     "iopub.execute_input": "2021-02-14T13:06:47.032569Z",
     "iopub.status.busy": "2021-02-14T13:06:47.031834Z",
     "iopub.status.idle": "2021-02-14T13:06:48.149485Z",
     "shell.execute_reply": "2021-02-14T13:06:48.150501Z"
    },
    "papermill": {
     "duration": 1.154948,
     "end_time": "2021-02-14T13:06:48.150801",
     "exception": false,
     "start_time": "2021-02-14T13:06:46.995853",
     "status": "completed"
    },
    "tags": []
   },
   "outputs": [
    {
     "name": "stdout",
     "output_type": "stream",
     "text": [
      "/kaggle/input/housedata/output.csv\n",
      "/kaggle/input/housedata/data.csv\n",
      "/kaggle/input/housedata/data.dat\n",
      "/kaggle/input/nlp-getting-started/sample_submission.csv\n",
      "/kaggle/input/nlp-getting-started/train.csv\n",
      "/kaggle/input/nlp-getting-started/test.csv\n"
     ]
    }
   ],
   "source": [
    "import numpy as np \n",
    "import pandas as pd \n",
    "import matplotlib.pyplot as plt\n",
    "import seaborn as sns\n",
    "\n",
    "\n",
    "\n",
    "import os\n",
    "for dirname, _, filenames in os.walk('/kaggle/input'):\n",
    "    for filename in filenames:\n",
    "        print(os.path.join(dirname, filename))\n",
    "\n"
   ]
  },
  {
   "cell_type": "markdown",
   "metadata": {
    "papermill": {
     "duration": 0.028128,
     "end_time": "2021-02-14T13:06:48.209015",
     "exception": false,
     "start_time": "2021-02-14T13:06:48.180887",
     "status": "completed"
    },
    "tags": []
   },
   "source": [
    "# **Read the dataset using pandas**"
   ]
  },
  {
   "cell_type": "code",
   "execution_count": 2,
   "metadata": {
    "_cell_guid": "79c7e3d0-c299-4dcb-8224-4455121ee9b0",
    "_uuid": "d629ff2d2480ee46fbb7e2d37f6b5fab8052498a",
    "execution": {
     "iopub.execute_input": "2021-02-14T13:06:48.273920Z",
     "iopub.status.busy": "2021-02-14T13:06:48.273188Z",
     "iopub.status.idle": "2021-02-14T13:06:48.343323Z",
     "shell.execute_reply": "2021-02-14T13:06:48.342546Z"
    },
    "papermill": {
     "duration": 0.10587,
     "end_time": "2021-02-14T13:06:48.343456",
     "exception": false,
     "start_time": "2021-02-14T13:06:48.237586",
     "status": "completed"
    },
    "tags": []
   },
   "outputs": [
    {
     "data": {
      "text/html": [
       "<div>\n",
       "<style scoped>\n",
       "    .dataframe tbody tr th:only-of-type {\n",
       "        vertical-align: middle;\n",
       "    }\n",
       "\n",
       "    .dataframe tbody tr th {\n",
       "        vertical-align: top;\n",
       "    }\n",
       "\n",
       "    .dataframe thead th {\n",
       "        text-align: right;\n",
       "    }\n",
       "</style>\n",
       "<table border=\"1\" class=\"dataframe\">\n",
       "  <thead>\n",
       "    <tr style=\"text-align: right;\">\n",
       "      <th></th>\n",
       "      <th>id</th>\n",
       "      <th>keyword</th>\n",
       "      <th>location</th>\n",
       "      <th>text</th>\n",
       "      <th>target</th>\n",
       "    </tr>\n",
       "  </thead>\n",
       "  <tbody>\n",
       "    <tr>\n",
       "      <th>0</th>\n",
       "      <td>1</td>\n",
       "      <td>NaN</td>\n",
       "      <td>NaN</td>\n",
       "      <td>Our Deeds are the Reason of this #earthquake M...</td>\n",
       "      <td>1</td>\n",
       "    </tr>\n",
       "    <tr>\n",
       "      <th>1</th>\n",
       "      <td>4</td>\n",
       "      <td>NaN</td>\n",
       "      <td>NaN</td>\n",
       "      <td>Forest fire near La Ronge Sask. Canada</td>\n",
       "      <td>1</td>\n",
       "    </tr>\n",
       "    <tr>\n",
       "      <th>2</th>\n",
       "      <td>5</td>\n",
       "      <td>NaN</td>\n",
       "      <td>NaN</td>\n",
       "      <td>All residents asked to 'shelter in place' are ...</td>\n",
       "      <td>1</td>\n",
       "    </tr>\n",
       "    <tr>\n",
       "      <th>3</th>\n",
       "      <td>6</td>\n",
       "      <td>NaN</td>\n",
       "      <td>NaN</td>\n",
       "      <td>13,000 people receive #wildfires evacuation or...</td>\n",
       "      <td>1</td>\n",
       "    </tr>\n",
       "    <tr>\n",
       "      <th>4</th>\n",
       "      <td>7</td>\n",
       "      <td>NaN</td>\n",
       "      <td>NaN</td>\n",
       "      <td>Just got sent this photo from Ruby #Alaska as ...</td>\n",
       "      <td>1</td>\n",
       "    </tr>\n",
       "  </tbody>\n",
       "</table>\n",
       "</div>"
      ],
      "text/plain": [
       "   id keyword location                                               text  \\\n",
       "0   1     NaN      NaN  Our Deeds are the Reason of this #earthquake M...   \n",
       "1   4     NaN      NaN             Forest fire near La Ronge Sask. Canada   \n",
       "2   5     NaN      NaN  All residents asked to 'shelter in place' are ...   \n",
       "3   6     NaN      NaN  13,000 people receive #wildfires evacuation or...   \n",
       "4   7     NaN      NaN  Just got sent this photo from Ruby #Alaska as ...   \n",
       "\n",
       "   target  \n",
       "0       1  \n",
       "1       1  \n",
       "2       1  \n",
       "3       1  \n",
       "4       1  "
      ]
     },
     "execution_count": 2,
     "metadata": {},
     "output_type": "execute_result"
    }
   ],
   "source": [
    "train_df=pd.read_csv('/kaggle/input/nlp-getting-started/train.csv')\n",
    "train_df.head()"
   ]
  },
  {
   "cell_type": "code",
   "execution_count": 3,
   "metadata": {
    "execution": {
     "iopub.execute_input": "2021-02-14T13:06:48.413582Z",
     "iopub.status.busy": "2021-02-14T13:06:48.412851Z",
     "iopub.status.idle": "2021-02-14T13:06:48.428940Z",
     "shell.execute_reply": "2021-02-14T13:06:48.428375Z"
    },
    "papermill": {
     "duration": 0.055886,
     "end_time": "2021-02-14T13:06:48.429075",
     "exception": false,
     "start_time": "2021-02-14T13:06:48.373189",
     "status": "completed"
    },
    "tags": []
   },
   "outputs": [
    {
     "data": {
      "text/html": [
       "<div>\n",
       "<style scoped>\n",
       "    .dataframe tbody tr th:only-of-type {\n",
       "        vertical-align: middle;\n",
       "    }\n",
       "\n",
       "    .dataframe tbody tr th {\n",
       "        vertical-align: top;\n",
       "    }\n",
       "\n",
       "    .dataframe thead th {\n",
       "        text-align: right;\n",
       "    }\n",
       "</style>\n",
       "<table border=\"1\" class=\"dataframe\">\n",
       "  <thead>\n",
       "    <tr style=\"text-align: right;\">\n",
       "      <th></th>\n",
       "      <th>id</th>\n",
       "      <th>target</th>\n",
       "    </tr>\n",
       "  </thead>\n",
       "  <tbody>\n",
       "    <tr>\n",
       "      <th>count</th>\n",
       "      <td>7613.000000</td>\n",
       "      <td>7613.00000</td>\n",
       "    </tr>\n",
       "    <tr>\n",
       "      <th>mean</th>\n",
       "      <td>5441.934848</td>\n",
       "      <td>0.42966</td>\n",
       "    </tr>\n",
       "    <tr>\n",
       "      <th>std</th>\n",
       "      <td>3137.116090</td>\n",
       "      <td>0.49506</td>\n",
       "    </tr>\n",
       "    <tr>\n",
       "      <th>min</th>\n",
       "      <td>1.000000</td>\n",
       "      <td>0.00000</td>\n",
       "    </tr>\n",
       "    <tr>\n",
       "      <th>25%</th>\n",
       "      <td>2734.000000</td>\n",
       "      <td>0.00000</td>\n",
       "    </tr>\n",
       "    <tr>\n",
       "      <th>50%</th>\n",
       "      <td>5408.000000</td>\n",
       "      <td>0.00000</td>\n",
       "    </tr>\n",
       "    <tr>\n",
       "      <th>75%</th>\n",
       "      <td>8146.000000</td>\n",
       "      <td>1.00000</td>\n",
       "    </tr>\n",
       "    <tr>\n",
       "      <th>max</th>\n",
       "      <td>10873.000000</td>\n",
       "      <td>1.00000</td>\n",
       "    </tr>\n",
       "  </tbody>\n",
       "</table>\n",
       "</div>"
      ],
      "text/plain": [
       "                 id      target\n",
       "count   7613.000000  7613.00000\n",
       "mean    5441.934848     0.42966\n",
       "std     3137.116090     0.49506\n",
       "min        1.000000     0.00000\n",
       "25%     2734.000000     0.00000\n",
       "50%     5408.000000     0.00000\n",
       "75%     8146.000000     1.00000\n",
       "max    10873.000000     1.00000"
      ]
     },
     "execution_count": 3,
     "metadata": {},
     "output_type": "execute_result"
    }
   ],
   "source": [
    "train_df.describe()"
   ]
  },
  {
   "cell_type": "code",
   "execution_count": 4,
   "metadata": {
    "execution": {
     "iopub.execute_input": "2021-02-14T13:06:48.499201Z",
     "iopub.status.busy": "2021-02-14T13:06:48.498388Z",
     "iopub.status.idle": "2021-02-14T13:06:48.507100Z",
     "shell.execute_reply": "2021-02-14T13:06:48.506570Z"
    },
    "papermill": {
     "duration": 0.04739,
     "end_time": "2021-02-14T13:06:48.507244",
     "exception": false,
     "start_time": "2021-02-14T13:06:48.459854",
     "status": "completed"
    },
    "tags": []
   },
   "outputs": [
    {
     "data": {
      "text/plain": [
       "id             0\n",
       "keyword       61\n",
       "location    2533\n",
       "text           0\n",
       "target         0\n",
       "dtype: int64"
      ]
     },
     "execution_count": 4,
     "metadata": {},
     "output_type": "execute_result"
    }
   ],
   "source": [
    "train_df.isna().sum()"
   ]
  },
  {
   "cell_type": "code",
   "execution_count": 5,
   "metadata": {
    "execution": {
     "iopub.execute_input": "2021-02-14T13:06:48.575226Z",
     "iopub.status.busy": "2021-02-14T13:06:48.574509Z",
     "iopub.status.idle": "2021-02-14T13:06:48.735390Z",
     "shell.execute_reply": "2021-02-14T13:06:48.734703Z"
    },
    "papermill": {
     "duration": 0.197628,
     "end_time": "2021-02-14T13:06:48.735514",
     "exception": false,
     "start_time": "2021-02-14T13:06:48.537886",
     "status": "completed"
    },
    "tags": []
   },
   "outputs": [
    {
     "data": {
      "text/plain": [
       "<matplotlib.axes._subplots.AxesSubplot at 0x7f58f66828d0>"
      ]
     },
     "execution_count": 5,
     "metadata": {},
     "output_type": "execute_result"
    },
    {
     "data": {
      "image/png": "[encoded data removed]",
      "text/plain": [
       "<Figure size 432x432 with 1 Axes>"
      ]
     },
     "metadata": {},
     "output_type": "display_data"
    }
   ],
   "source": [
    "train_df[\"target\"].value_counts().plot.pie(explode=[0.1,0.1],autopct='%1.1f%%', figsize=(6,6))"
   ]
  },
  {
   "cell_type": "code",
   "execution_count": 6,
   "metadata": {
    "execution": {
     "iopub.execute_input": "2021-02-14T13:06:48.807190Z",
     "iopub.status.busy": "2021-02-14T13:06:48.805985Z",
     "iopub.status.idle": "2021-02-14T13:06:48.916757Z",
     "shell.execute_reply": "2021-02-14T13:06:48.917241Z"
    },
    "papermill": {
     "duration": 0.150257,
     "end_time": "2021-02-14T13:06:48.917418",
     "exception": false,
     "start_time": "2021-02-14T13:06:48.767161",
     "status": "completed"
    },
    "tags": []
   },
   "outputs": [
    {
     "data": {
      "text/plain": [
       "<matplotlib.axes._subplots.AxesSubplot at 0x7f58f447dc50>"
      ]
     },
     "execution_count": 6,
     "metadata": {},
     "output_type": "execute_result"
    },
    {
     "data": {
      "image/png": "[encoded data removed]",
      "text/plain": [
       "<Figure size 432x288 with 1 Axes>"
      ]
     },
     "metadata": {
      "needs_background": "light"
     },
     "output_type": "display_data"
    }
   ],
   "source": [
    "import seaborn as sns\n",
    "sns.countplot(x='target',data=train_df)"
   ]
  },
  {
   "cell_type": "code",
   "execution_count": 7,
   "metadata": {
    "execution": {
     "iopub.execute_input": "2021-02-14T13:06:48.992836Z",
     "iopub.status.busy": "2021-02-14T13:06:48.990457Z",
     "iopub.status.idle": "2021-02-14T13:06:49.035065Z",
     "shell.execute_reply": "2021-02-14T13:06:49.034416Z"
    },
    "papermill": {
     "duration": 0.085213,
     "end_time": "2021-02-14T13:06:49.035193",
     "exception": false,
     "start_time": "2021-02-14T13:06:48.949980",
     "status": "completed"
    },
    "tags": []
   },
   "outputs": [
    {
     "data": {
      "text/plain": [
       "id     keyword     location                        text                                                                                                                   target\n",
       "10833  wrecked     Lincoln                         @engineshed Great atmosphere at the British Lion gig tonight. Hearing is wrecked. http://t.co/oMNBAtJEAO               0         1\n",
       "3598   desolation  Stockholm, Sweden               ? This Weekend: Stockholm Sweden - Aug 8 at Copperfields http://t.co/6un7xC9Sve                                        1         1\n",
       "3583   desolate    Michigan, USA                   Psalm34:22 The Lord redeemeth the soul of his servants: and none of them that trust in him shall be desolate.          0         1\n",
       "3584   desolate    Boulder                         @joshacagan Your only option now is to move to an desolate island with nothing but a stack of DVDs you canÛªt watch.  0         1\n",
       "3587   desolate    Temporary Towers                @fotofill It looks so desolate. End of the world stuff. Gorgeous.                                                      0         1\n",
       "                                                                                                                                                                                   ..\n",
       "7169   mudslide    the burrow                      DORETTE THATS THE NAME OF THE MUDSLIDE CAKE MAKER                                                                      0         1\n",
       "7173   mudslide    plymouth                        @brobread looks like mudslide????                                                                                      1         1\n",
       "7174   mudslide    The Pumpkin Carriage of Dreams  @Lolly_Knickers It's a mudslide. \\nIt's like chewing on a rubber tyre.\\nAnd with those I'm DONE.\\n#vaginaorcake #GBBO  1         1\n",
       "7176   mudslide    London                          First impressions: glad hat man is leaving in lieu of more interesting ladies. Hope mudslide lady triumphs next week.  0         1\n",
       "48     ablaze      Birmingham                      @bbcmtd Wholesale Markets ablaze http://t.co/lHYXEOHY6C                                                                1         1\n",
       "Length: 5080, dtype: int64"
      ]
     },
     "execution_count": 7,
     "metadata": {},
     "output_type": "execute_result"
    }
   ],
   "source": [
    "train_df[train_df.keyword!='NaN'].value_counts()"
   ]
  },
  {
   "cell_type": "code",
   "execution_count": 8,
   "metadata": {
    "execution": {
     "iopub.execute_input": "2021-02-14T13:06:49.116957Z",
     "iopub.status.busy": "2021-02-14T13:06:49.116189Z",
     "iopub.status.idle": "2021-02-14T13:06:49.120373Z",
     "shell.execute_reply": "2021-02-14T13:06:49.119639Z"
    },
    "papermill": {
     "duration": 0.051737,
     "end_time": "2021-02-14T13:06:49.120499",
     "exception": false,
     "start_time": "2021-02-14T13:06:49.068762",
     "status": "completed"
    },
    "tags": []
   },
   "outputs": [
    {
     "data": {
      "text/html": [
       "<div>\n",
       "<style scoped>\n",
       "    .dataframe tbody tr th:only-of-type {\n",
       "        vertical-align: middle;\n",
       "    }\n",
       "\n",
       "    .dataframe tbody tr th {\n",
       "        vertical-align: top;\n",
       "    }\n",
       "\n",
       "    .dataframe thead th {\n",
       "        text-align: right;\n",
       "    }\n",
       "</style>\n",
       "<table border=\"1\" class=\"dataframe\">\n",
       "  <thead>\n",
       "    <tr style=\"text-align: right;\">\n",
       "      <th></th>\n",
       "      <th>text</th>\n",
       "      <th>target</th>\n",
       "    </tr>\n",
       "  </thead>\n",
       "  <tbody>\n",
       "    <tr>\n",
       "      <th>0</th>\n",
       "      <td>Our Deeds are the Reason of this #earthquake M...</td>\n",
       "      <td>1</td>\n",
       "    </tr>\n",
       "    <tr>\n",
       "      <th>1</th>\n",
       "      <td>Forest fire near La Ronge Sask. Canada</td>\n",
       "      <td>1</td>\n",
       "    </tr>\n",
       "    <tr>\n",
       "      <th>2</th>\n",
       "      <td>All residents asked to 'shelter in place' are ...</td>\n",
       "      <td>1</td>\n",
       "    </tr>\n",
       "    <tr>\n",
       "      <th>3</th>\n",
       "      <td>13,000 people receive #wildfires evacuation or...</td>\n",
       "      <td>1</td>\n",
       "    </tr>\n",
       "    <tr>\n",
       "      <th>4</th>\n",
       "      <td>Just got sent this photo from Ruby #Alaska as ...</td>\n",
       "      <td>1</td>\n",
       "    </tr>\n",
       "  </tbody>\n",
       "</table>\n",
       "</div>"
      ],
      "text/plain": [
       "                                                text  target\n",
       "0  Our Deeds are the Reason of this #earthquake M...       1\n",
       "1             Forest fire near La Ronge Sask. Canada       1\n",
       "2  All residents asked to 'shelter in place' are ...       1\n",
       "3  13,000 people receive #wildfires evacuation or...       1\n",
       "4  Just got sent this photo from Ruby #Alaska as ...       1"
      ]
     },
     "execution_count": 8,
     "metadata": {},
     "output_type": "execute_result"
    }
   ],
   "source": [
    "train_df=train_df.drop([\"location\",\"keyword\",\"id\"], axis=1)\n",
    "train_df.head()"
   ]
  },
  {
   "cell_type": "code",
   "execution_count": 9,
   "metadata": {
    "execution": {
     "iopub.execute_input": "2021-02-14T13:06:49.197363Z",
     "iopub.status.busy": "2021-02-14T13:06:49.196666Z",
     "iopub.status.idle": "2021-02-14T13:06:49.200978Z",
     "shell.execute_reply": "2021-02-14T13:06:49.200346Z"
    },
    "papermill": {
     "duration": 0.046685,
     "end_time": "2021-02-14T13:06:49.201105",
     "exception": false,
     "start_time": "2021-02-14T13:06:49.154420",
     "status": "completed"
    },
    "tags": []
   },
   "outputs": [
    {
     "data": {
      "text/plain": [
       "text      0\n",
       "target    0\n",
       "dtype: int64"
      ]
     },
     "execution_count": 9,
     "metadata": {},
     "output_type": "execute_result"
    }
   ],
   "source": [
    "train_df.isna().sum()"
   ]
  },
  {
   "cell_type": "code",
   "execution_count": 10,
   "metadata": {
    "execution": {
     "iopub.execute_input": "2021-02-14T13:06:49.285958Z",
     "iopub.status.busy": "2021-02-14T13:06:49.280307Z",
     "iopub.status.idle": "2021-02-14T13:06:49.290579Z",
     "shell.execute_reply": "2021-02-14T13:06:49.289582Z"
    },
    "papermill": {
     "duration": 0.054862,
     "end_time": "2021-02-14T13:06:49.290717",
     "exception": false,
     "start_time": "2021-02-14T13:06:49.235855",
     "status": "completed"
    },
    "tags": []
   },
   "outputs": [
    {
     "name": "stdout",
     "output_type": "stream",
     "text": [
      "<class 'pandas.core.frame.DataFrame'>\n",
      "RangeIndex: 7613 entries, 0 to 7612\n",
      "Data columns (total 2 columns):\n",
      " #   Column  Non-Null Count  Dtype \n",
      "---  ------  --------------  ----- \n",
      " 0   text    7613 non-null   object\n",
      " 1   target  7613 non-null   int64 \n",
      "dtypes: int64(1), object(1)\n",
      "memory usage: 119.1+ KB\n"
     ]
    }
   ],
   "source": [
    "train_df.info()"
   ]
  },
  {
   "cell_type": "markdown",
   "metadata": {
    "papermill": {
     "duration": 0.034537,
     "end_time": "2021-02-14T13:06:49.360282",
     "exception": false,
     "start_time": "2021-02-14T13:06:49.325745",
     "status": "completed"
    },
    "tags": []
   },
   "source": [
    "# **Read the test dataset**"
   ]
  },
  {
   "cell_type": "code",
   "execution_count": 11,
   "metadata": {
    "execution": {
     "iopub.execute_input": "2021-02-14T13:06:49.437776Z",
     "iopub.status.busy": "2021-02-14T13:06:49.437027Z",
     "iopub.status.idle": "2021-02-14T13:06:49.474444Z",
     "shell.execute_reply": "2021-02-14T13:06:49.473826Z"
    },
    "papermill": {
     "duration": 0.079658,
     "end_time": "2021-02-14T13:06:49.474598",
     "exception": false,
     "start_time": "2021-02-14T13:06:49.394940",
     "status": "completed"
    },
    "tags": []
   },
   "outputs": [
    {
     "data": {
      "text/html": [
       "<div>\n",
       "<style scoped>\n",
       "    .dataframe tbody tr th:only-of-type {\n",
       "        vertical-align: middle;\n",
       "    }\n",
       "\n",
       "    .dataframe tbody tr th {\n",
       "        vertical-align: top;\n",
       "    }\n",
       "\n",
       "    .dataframe thead th {\n",
       "        text-align: right;\n",
       "    }\n",
       "</style>\n",
       "<table border=\"1\" class=\"dataframe\">\n",
       "  <thead>\n",
       "    <tr style=\"text-align: right;\">\n",
       "      <th></th>\n",
       "      <th>id</th>\n",
       "      <th>keyword</th>\n",
       "      <th>location</th>\n",
       "      <th>text</th>\n",
       "    </tr>\n",
       "  </thead>\n",
       "  <tbody>\n",
       "    <tr>\n",
       "      <th>0</th>\n",
       "      <td>0</td>\n",
       "      <td>NaN</td>\n",
       "      <td>NaN</td>\n",
       "      <td>Just happened a terrible car crash</td>\n",
       "    </tr>\n",
       "    <tr>\n",
       "      <th>1</th>\n",
       "      <td>2</td>\n",
       "      <td>NaN</td>\n",
       "      <td>NaN</td>\n",
       "      <td>Heard about #earthquake is different cities, s...</td>\n",
       "    </tr>\n",
       "    <tr>\n",
       "      <th>2</th>\n",
       "      <td>3</td>\n",
       "      <td>NaN</td>\n",
       "      <td>NaN</td>\n",
       "      <td>there is a forest fire at spot pond, geese are...</td>\n",
       "    </tr>\n",
       "    <tr>\n",
       "      <th>3</th>\n",
       "      <td>9</td>\n",
       "      <td>NaN</td>\n",
       "      <td>NaN</td>\n",
       "      <td>Apocalypse lighting. #Spokane #wildfires</td>\n",
       "    </tr>\n",
       "    <tr>\n",
       "      <th>4</th>\n",
       "      <td>11</td>\n",
       "      <td>NaN</td>\n",
       "      <td>NaN</td>\n",
       "      <td>Typhoon Soudelor kills 28 in China and Taiwan</td>\n",
       "    </tr>\n",
       "    <tr>\n",
       "      <th>...</th>\n",
       "      <td>...</td>\n",
       "      <td>...</td>\n",
       "      <td>...</td>\n",
       "      <td>...</td>\n",
       "    </tr>\n",
       "    <tr>\n",
       "      <th>3258</th>\n",
       "      <td>10861</td>\n",
       "      <td>NaN</td>\n",
       "      <td>NaN</td>\n",
       "      <td>EARTHQUAKE SAFETY LOS ANGELES ÛÒ SAFETY FASTE...</td>\n",
       "    </tr>\n",
       "    <tr>\n",
       "      <th>3259</th>\n",
       "      <td>10865</td>\n",
       "      <td>NaN</td>\n",
       "      <td>NaN</td>\n",
       "      <td>Storm in RI worse than last hurricane. My city...</td>\n",
       "    </tr>\n",
       "    <tr>\n",
       "      <th>3260</th>\n",
       "      <td>10868</td>\n",
       "      <td>NaN</td>\n",
       "      <td>NaN</td>\n",
       "      <td>Green Line derailment in Chicago http://t.co/U...</td>\n",
       "    </tr>\n",
       "    <tr>\n",
       "      <th>3261</th>\n",
       "      <td>10874</td>\n",
       "      <td>NaN</td>\n",
       "      <td>NaN</td>\n",
       "      <td>MEG issues Hazardous Weather Outlook (HWO) htt...</td>\n",
       "    </tr>\n",
       "    <tr>\n",
       "      <th>3262</th>\n",
       "      <td>10875</td>\n",
       "      <td>NaN</td>\n",
       "      <td>NaN</td>\n",
       "      <td>#CityofCalgary has activated its Municipal Eme...</td>\n",
       "    </tr>\n",
       "  </tbody>\n",
       "</table>\n",
       "<p>3263 rows × 4 columns</p>\n",
       "</div>"
      ],
      "text/plain": [
       "         id keyword location  \\\n",
       "0         0     NaN      NaN   \n",
       "1         2     NaN      NaN   \n",
       "2         3     NaN      NaN   \n",
       "3         9     NaN      NaN   \n",
       "4        11     NaN      NaN   \n",
       "...     ...     ...      ...   \n",
       "3258  10861     NaN      NaN   \n",
       "3259  10865     NaN      NaN   \n",
       "3260  10868     NaN      NaN   \n",
       "3261  10874     NaN      NaN   \n",
       "3262  10875     NaN      NaN   \n",
       "\n",
       "                                                   text  \n",
       "0                    Just happened a terrible car crash  \n",
       "1     Heard about #earthquake is different cities, s...  \n",
       "2     there is a forest fire at spot pond, geese are...  \n",
       "3              Apocalypse lighting. #Spokane #wildfires  \n",
       "4         Typhoon Soudelor kills 28 in China and Taiwan  \n",
       "...                                                 ...  \n",
       "3258  EARTHQUAKE SAFETY LOS ANGELES ÛÒ SAFETY FASTE...  \n",
       "3259  Storm in RI worse than last hurricane. My city...  \n",
       "3260  Green Line derailment in Chicago http://t.co/U...  \n",
       "3261  MEG issues Hazardous Weather Outlook (HWO) htt...  \n",
       "3262  #CityofCalgary has activated its Municipal Eme...  \n",
       "\n",
       "[3263 rows x 4 columns]"
      ]
     },
     "execution_count": 11,
     "metadata": {},
     "output_type": "execute_result"
    }
   ],
   "source": [
    "test_df=pd.read_csv(\"/kaggle/input/nlp-getting-started/test.csv\")\n",
    "test_df"
   ]
  },
  {
   "cell_type": "code",
   "execution_count": 12,
   "metadata": {
    "execution": {
     "iopub.execute_input": "2021-02-14T13:06:49.556629Z",
     "iopub.status.busy": "2021-02-14T13:06:49.555621Z",
     "iopub.status.idle": "2021-02-14T13:06:49.560935Z",
     "shell.execute_reply": "2021-02-14T13:06:49.560246Z"
    },
    "papermill": {
     "duration": 0.050812,
     "end_time": "2021-02-14T13:06:49.561073",
     "exception": false,
     "start_time": "2021-02-14T13:06:49.510261",
     "status": "completed"
    },
    "tags": []
   },
   "outputs": [
    {
     "data": {
      "text/plain": [
       "id             0\n",
       "keyword       26\n",
       "location    1105\n",
       "text           0\n",
       "dtype: int64"
      ]
     },
     "execution_count": 12,
     "metadata": {},
     "output_type": "execute_result"
    }
   ],
   "source": [
    "test_df.isna().sum()"
   ]
  },
  {
   "cell_type": "code",
   "execution_count": 13,
   "metadata": {
    "execution": {
     "iopub.execute_input": "2021-02-14T13:06:49.642851Z",
     "iopub.status.busy": "2021-02-14T13:06:49.642104Z",
     "iopub.status.idle": "2021-02-14T13:06:49.651982Z",
     "shell.execute_reply": "2021-02-14T13:06:49.651371Z"
    },
    "papermill": {
     "duration": 0.054348,
     "end_time": "2021-02-14T13:06:49.652109",
     "exception": false,
     "start_time": "2021-02-14T13:06:49.597761",
     "status": "completed"
    },
    "tags": []
   },
   "outputs": [
    {
     "data": {
      "text/html": [
       "<div>\n",
       "<style scoped>\n",
       "    .dataframe tbody tr th:only-of-type {\n",
       "        vertical-align: middle;\n",
       "    }\n",
       "\n",
       "    .dataframe tbody tr th {\n",
       "        vertical-align: top;\n",
       "    }\n",
       "\n",
       "    .dataframe thead th {\n",
       "        text-align: right;\n",
       "    }\n",
       "</style>\n",
       "<table border=\"1\" class=\"dataframe\">\n",
       "  <thead>\n",
       "    <tr style=\"text-align: right;\">\n",
       "      <th></th>\n",
       "      <th>id</th>\n",
       "      <th>text</th>\n",
       "    </tr>\n",
       "  </thead>\n",
       "  <tbody>\n",
       "    <tr>\n",
       "      <th>0</th>\n",
       "      <td>0</td>\n",
       "      <td>Just happened a terrible car crash</td>\n",
       "    </tr>\n",
       "    <tr>\n",
       "      <th>1</th>\n",
       "      <td>2</td>\n",
       "      <td>Heard about #earthquake is different cities, s...</td>\n",
       "    </tr>\n",
       "    <tr>\n",
       "      <th>2</th>\n",
       "      <td>3</td>\n",
       "      <td>there is a forest fire at spot pond, geese are...</td>\n",
       "    </tr>\n",
       "    <tr>\n",
       "      <th>3</th>\n",
       "      <td>9</td>\n",
       "      <td>Apocalypse lighting. #Spokane #wildfires</td>\n",
       "    </tr>\n",
       "    <tr>\n",
       "      <th>4</th>\n",
       "      <td>11</td>\n",
       "      <td>Typhoon Soudelor kills 28 in China and Taiwan</td>\n",
       "    </tr>\n",
       "  </tbody>\n",
       "</table>\n",
       "</div>"
      ],
      "text/plain": [
       "   id                                               text\n",
       "0   0                 Just happened a terrible car crash\n",
       "1   2  Heard about #earthquake is different cities, s...\n",
       "2   3  there is a forest fire at spot pond, geese are...\n",
       "3   9           Apocalypse lighting. #Spokane #wildfires\n",
       "4  11      Typhoon Soudelor kills 28 in China and Taiwan"
      ]
     },
     "execution_count": 13,
     "metadata": {},
     "output_type": "execute_result"
    }
   ],
   "source": [
    "test_df=test_df.drop([\"location\",\"keyword\"], axis=1)\n",
    "test_df.head()"
   ]
  },
  {
   "cell_type": "markdown",
   "metadata": {
    "papermill": {
     "duration": 0.03634,
     "end_time": "2021-02-14T13:06:49.725260",
     "exception": false,
     "start_time": "2021-02-14T13:06:49.688920",
     "status": "completed"
    },
    "tags": []
   },
   "source": [
    "# **Import the required NLTK modules**"
   ]
  },
  {
   "cell_type": "code",
   "execution_count": 14,
   "metadata": {
    "execution": {
     "iopub.execute_input": "2021-02-14T13:06:49.805514Z",
     "iopub.status.busy": "2021-02-14T13:06:49.804842Z",
     "iopub.status.idle": "2021-02-14T13:06:50.752364Z",
     "shell.execute_reply": "2021-02-14T13:06:50.750937Z"
    },
    "papermill": {
     "duration": 0.990842,
     "end_time": "2021-02-14T13:06:50.752663",
     "exception": false,
     "start_time": "2021-02-14T13:06:49.761821",
     "status": "completed"
    },
    "tags": []
   },
   "outputs": [],
   "source": [
    "import nltk\n",
    "from nltk.corpus import stopwords\n",
    "from nltk.tokenize import word_tokenize,sent_tokenize\n",
    "from nltk.stem import WordNetLemmatizer\n",
    "from nltk import tokenize"
   ]
  },
  {
   "cell_type": "markdown",
   "metadata": {
    "papermill": {
     "duration": 0.035947,
     "end_time": "2021-02-14T13:06:50.837315",
     "exception": false,
     "start_time": "2021-02-14T13:06:50.801368",
     "status": "completed"
    },
    "tags": []
   },
   "source": [
    "# **Lower case the text data**"
   ]
  },
  {
   "cell_type": "code",
   "execution_count": 15,
   "metadata": {
    "execution": {
     "iopub.execute_input": "2021-02-14T13:06:50.935953Z",
     "iopub.status.busy": "2021-02-14T13:06:50.934861Z",
     "iopub.status.idle": "2021-02-14T13:06:50.940248Z",
     "shell.execute_reply": "2021-02-14T13:06:50.939721Z"
    },
    "papermill": {
     "duration": 0.066523,
     "end_time": "2021-02-14T13:06:50.940367",
     "exception": false,
     "start_time": "2021-02-14T13:06:50.873844",
     "status": "completed"
    },
    "tags": []
   },
   "outputs": [
    {
     "data": {
      "text/html": [
       "<div>\n",
       "<style scoped>\n",
       "    .dataframe tbody tr th:only-of-type {\n",
       "        vertical-align: middle;\n",
       "    }\n",
       "\n",
       "    .dataframe tbody tr th {\n",
       "        vertical-align: top;\n",
       "    }\n",
       "\n",
       "    .dataframe thead th {\n",
       "        text-align: right;\n",
       "    }\n",
       "</style>\n",
       "<table border=\"1\" class=\"dataframe\">\n",
       "  <thead>\n",
       "    <tr style=\"text-align: right;\">\n",
       "      <th></th>\n",
       "      <th>text</th>\n",
       "      <th>target</th>\n",
       "    </tr>\n",
       "  </thead>\n",
       "  <tbody>\n",
       "    <tr>\n",
       "      <th>0</th>\n",
       "      <td>our deeds are the reason of this #earthquake m...</td>\n",
       "      <td>1</td>\n",
       "    </tr>\n",
       "    <tr>\n",
       "      <th>1</th>\n",
       "      <td>forest fire near la ronge sask. canada</td>\n",
       "      <td>1</td>\n",
       "    </tr>\n",
       "    <tr>\n",
       "      <th>2</th>\n",
       "      <td>all residents asked to 'shelter in place' are ...</td>\n",
       "      <td>1</td>\n",
       "    </tr>\n",
       "    <tr>\n",
       "      <th>3</th>\n",
       "      <td>13,000 people receive #wildfires evacuation or...</td>\n",
       "      <td>1</td>\n",
       "    </tr>\n",
       "    <tr>\n",
       "      <th>4</th>\n",
       "      <td>just got sent this photo from ruby #alaska as ...</td>\n",
       "      <td>1</td>\n",
       "    </tr>\n",
       "    <tr>\n",
       "      <th>...</th>\n",
       "      <td>...</td>\n",
       "      <td>...</td>\n",
       "    </tr>\n",
       "    <tr>\n",
       "      <th>7608</th>\n",
       "      <td>two giant cranes holding a bridge collapse int...</td>\n",
       "      <td>1</td>\n",
       "    </tr>\n",
       "    <tr>\n",
       "      <th>7609</th>\n",
       "      <td>@aria_ahrary @thetawniest the out of control w...</td>\n",
       "      <td>1</td>\n",
       "    </tr>\n",
       "    <tr>\n",
       "      <th>7610</th>\n",
       "      <td>m1.94 [01:04 utc]?5km s of volcano hawaii. htt...</td>\n",
       "      <td>1</td>\n",
       "    </tr>\n",
       "    <tr>\n",
       "      <th>7611</th>\n",
       "      <td>police investigating after an e-bike collided ...</td>\n",
       "      <td>1</td>\n",
       "    </tr>\n",
       "    <tr>\n",
       "      <th>7612</th>\n",
       "      <td>the latest: more homes razed by northern calif...</td>\n",
       "      <td>1</td>\n",
       "    </tr>\n",
       "  </tbody>\n",
       "</table>\n",
       "<p>7613 rows × 2 columns</p>\n",
       "</div>"
      ],
      "text/plain": [
       "                                                   text  target\n",
       "0     our deeds are the reason of this #earthquake m...       1\n",
       "1                forest fire near la ronge sask. canada       1\n",
       "2     all residents asked to 'shelter in place' are ...       1\n",
       "3     13,000 people receive #wildfires evacuation or...       1\n",
       "4     just got sent this photo from ruby #alaska as ...       1\n",
       "...                                                 ...     ...\n",
       "7608  two giant cranes holding a bridge collapse int...       1\n",
       "7609  @aria_ahrary @thetawniest the out of control w...       1\n",
       "7610  m1.94 [01:04 utc]?5km s of volcano hawaii. htt...       1\n",
       "7611  police investigating after an e-bike collided ...       1\n",
       "7612  the latest: more homes razed by northern calif...       1\n",
       "\n",
       "[7613 rows x 2 columns]"
      ]
     },
     "execution_count": 15,
     "metadata": {},
     "output_type": "execute_result"
    }
   ],
   "source": [
    "train_df.text=train_df.text.apply(lambda x: x.lower())\n",
    "train_df"
   ]
  },
  {
   "cell_type": "markdown",
   "metadata": {
    "papermill": {
     "duration": 0.037741,
     "end_time": "2021-02-14T13:06:51.015910",
     "exception": false,
     "start_time": "2021-02-14T13:06:50.978169",
     "status": "completed"
    },
    "tags": []
   },
   "source": [
    "# **Expanding the contracted and abbreviated text data**"
   ]
  },
  {
   "cell_type": "code",
   "execution_count": 16,
   "metadata": {
    "execution": {
     "iopub.execute_input": "2021-02-14T13:06:51.095484Z",
     "iopub.status.busy": "2021-02-14T13:06:51.094818Z",
     "iopub.status.idle": "2021-02-14T13:07:05.887952Z",
     "shell.execute_reply": "2021-02-14T13:07:05.887326Z"
    },
    "papermill": {
     "duration": 14.834246,
     "end_time": "2021-02-14T13:07:05.888102",
     "exception": false,
     "start_time": "2021-02-14T13:06:51.053856",
     "status": "completed"
    },
    "tags": []
   },
   "outputs": [
    {
     "name": "stdout",
     "output_type": "stream",
     "text": [
      "Collecting contractions\r\n",
      "  Downloading contractions-0.0.48-py2.py3-none-any.whl (6.4 kB)\r\n",
      "Collecting textsearch>=0.0.21\r\n",
      "  Downloading textsearch-0.0.21-py2.py3-none-any.whl (7.5 kB)\r\n",
      "Collecting anyascii\r\n",
      "  Downloading anyascii-0.1.7-py3-none-any.whl (260 kB)\r\n",
      "\u001b[K     |████████████████████████████████| 260 kB 1.2 MB/s \r\n",
      "\u001b[?25hCollecting pyahocorasick\r\n",
      "  Downloading pyahocorasick-1.4.1.tar.gz (321 kB)\r\n",
      "\u001b[K     |████████████████████████████████| 321 kB 5.3 MB/s \r\n",
      "\u001b[?25hBuilding wheels for collected packages: pyahocorasick\r\n",
      "  Building wheel for pyahocorasick (setup.py) ... \u001b[?25l-\b \b\\\b \b|\b \b/\b \bdone\r\n",
      "\u001b[?25h  Created wheel for pyahocorasick: filename=pyahocorasick-1.4.1-cp37-cp37m-linux_x86_64.whl size=102846 sha256=6c02943126a5764a8848234da66785907346b1db8a695dbad7b7e417e7da30bf\r\n",
      "  Stored in directory: /root/.cache/pip/wheels/fe/ea/e6/38b0d734be6936b783e916a0d8d670313fb1b2f74c5889d4fe\r\n",
      "Successfully built pyahocorasick\r\n",
      "Installing collected packages: pyahocorasick, anyascii, textsearch, contractions\r\n",
      "Successfully installed anyascii-0.1.7 contractions-0.0.48 pyahocorasick-1.4.1 textsearch-0.0.21\r\n",
      "\u001b[33mWARNING: You are using pip version 20.3.1; however, version 21.0.1 is available.\r\n",
      "You should consider upgrading via the '/opt/conda/bin/python3.7 -m pip install --upgrade pip' command.\u001b[0m\r\n"
     ]
    }
   ],
   "source": [
    "!pip install contractions\n",
    "import contractions"
   ]
  },
  {
   "cell_type": "code",
   "execution_count": 17,
   "metadata": {
    "execution": {
     "iopub.execute_input": "2021-02-14T13:07:05.984938Z",
     "iopub.status.busy": "2021-02-14T13:07:05.984213Z",
     "iopub.status.idle": "2021-02-14T13:07:06.133950Z",
     "shell.execute_reply": "2021-02-14T13:07:06.134490Z"
    },
    "papermill": {
     "duration": 0.20162,
     "end_time": "2021-02-14T13:07:06.134668",
     "exception": false,
     "start_time": "2021-02-14T13:07:05.933048",
     "status": "completed"
    },
    "tags": []
   },
   "outputs": [
    {
     "data": {
      "text/plain": [
       "'our deeds are the reason of this #earthquake may allah forgive us all'"
      ]
     },
     "execution_count": 17,
     "metadata": {},
     "output_type": "execute_result"
    }
   ],
   "source": [
    "def con(data):\n",
    "  expand=contractions.fix(data)\n",
    "  return expand\n",
    "\n",
    "train_df.text=train_df.text.apply(con)\n",
    "train_df['text'][0]"
   ]
  },
  {
   "cell_type": "markdown",
   "metadata": {
    "papermill": {
     "duration": 0.044136,
     "end_time": "2021-02-14T13:07:06.223805",
     "exception": false,
     "start_time": "2021-02-14T13:07:06.179669",
     "status": "completed"
    },
    "tags": []
   },
   "source": [
    "# **Removing the punctuations and special characters**"
   ]
  },
  {
   "cell_type": "code",
   "execution_count": 18,
   "metadata": {
    "execution": {
     "iopub.execute_input": "2021-02-14T13:07:06.316695Z",
     "iopub.status.busy": "2021-02-14T13:07:06.316031Z",
     "iopub.status.idle": "2021-02-14T13:07:06.379935Z",
     "shell.execute_reply": "2021-02-14T13:07:06.379355Z"
    },
    "papermill": {
     "duration": 0.111795,
     "end_time": "2021-02-14T13:07:06.380047",
     "exception": false,
     "start_time": "2021-02-14T13:07:06.268252",
     "status": "completed"
    },
    "tags": []
   },
   "outputs": [
    {
     "data": {
      "text/plain": [
       "'our deeds are the reason of this earthquake may allah forgive us all'"
      ]
     },
     "execution_count": 18,
     "metadata": {},
     "output_type": "execute_result"
    }
   ],
   "source": [
    "import re\n",
    "\n",
    "def remove_sp(data):\n",
    "  pattern=r'[^A-Za-z0-9\\s]'\n",
    "  data=re.sub(pattern,'',data)\n",
    "  return data\n",
    "\n",
    "train_df.text=train_df.text.apply(remove_sp)\n",
    "train_df.text[0]"
   ]
  },
  {
   "cell_type": "code",
   "execution_count": 19,
   "metadata": {
    "execution": {
     "iopub.execute_input": "2021-02-14T13:07:06.476597Z",
     "iopub.status.busy": "2021-02-14T13:07:06.475823Z",
     "iopub.status.idle": "2021-02-14T13:07:06.479470Z",
     "shell.execute_reply": "2021-02-14T13:07:06.478928Z"
    },
    "papermill": {
     "duration": 0.054163,
     "end_time": "2021-02-14T13:07:06.479616",
     "exception": false,
     "start_time": "2021-02-14T13:07:06.425453",
     "status": "completed"
    },
    "tags": []
   },
   "outputs": [],
   "source": [
    "#import string\n",
    "#punctuations=list(string.punctuation)\n",
    "#train_df.text=train_df.text.apply(lambda x : \" \".join(x for x in x.split() if x not in punctuations))"
   ]
  },
  {
   "cell_type": "markdown",
   "metadata": {
    "papermill": {
     "duration": 0.046285,
     "end_time": "2021-02-14T13:07:06.572042",
     "exception": false,
     "start_time": "2021-02-14T13:07:06.525757",
     "status": "completed"
    },
    "tags": []
   },
   "source": [
    "# **Removing Stopwords**"
   ]
  },
  {
   "cell_type": "code",
   "execution_count": 20,
   "metadata": {
    "execution": {
     "iopub.execute_input": "2021-02-14T13:07:06.685642Z",
     "iopub.status.busy": "2021-02-14T13:07:06.684803Z",
     "iopub.status.idle": "2021-02-14T13:07:07.087684Z",
     "shell.execute_reply": "2021-02-14T13:07:07.087131Z"
    },
    "papermill": {
     "duration": 0.469912,
     "end_time": "2021-02-14T13:07:07.087812",
     "exception": false,
     "start_time": "2021-02-14T13:07:06.617900",
     "status": "completed"
    },
    "tags": []
   },
   "outputs": [
    {
     "name": "stdout",
     "output_type": "stream",
     "text": [
      "[nltk_data] Downloading package stopwords to /usr/share/nltk_data...\n",
      "[nltk_data]   Package stopwords is already up-to-date!\n"
     ]
    },
    {
     "data": {
      "text/plain": [
       "'rockyfire update california hwy 20 closed directions due lake county fire cafire wildfires'"
      ]
     },
     "execution_count": 20,
     "metadata": {},
     "output_type": "execute_result"
    }
   ],
   "source": [
    "nltk.download('stopwords')\n",
    "stopword_list=stopwords.words('english')\n",
    "stopword_list.remove('no')\n",
    "stopword_list.remove('not')\n",
    "\n",
    "train_df.text=train_df.text.apply(lambda x : \" \".join(x for x in x.split() if x not in stopword_list))\n",
    "train_df['text'][5]"
   ]
  },
  {
   "cell_type": "markdown",
   "metadata": {
    "papermill": {
     "duration": 0.046682,
     "end_time": "2021-02-14T13:07:07.180559",
     "exception": false,
     "start_time": "2021-02-14T13:07:07.133877",
     "status": "completed"
    },
    "tags": []
   },
   "source": [
    "# **Tokenization**"
   ]
  },
  {
   "cell_type": "code",
   "execution_count": 21,
   "metadata": {
    "execution": {
     "iopub.execute_input": "2021-02-14T13:07:07.278711Z",
     "iopub.status.busy": "2021-02-14T13:07:07.277827Z",
     "iopub.status.idle": "2021-02-14T13:07:08.959903Z",
     "shell.execute_reply": "2021-02-14T13:07:08.959256Z"
    },
    "papermill": {
     "duration": 1.732209,
     "end_time": "2021-02-14T13:07:08.960028",
     "exception": false,
     "start_time": "2021-02-14T13:07:07.227819",
     "status": "completed"
    },
    "tags": []
   },
   "outputs": [
    {
     "name": "stdout",
     "output_type": "stream",
     "text": [
      "[nltk_data] Downloading package punkt to /usr/share/nltk_data...\n",
      "[nltk_data]   Package punkt is already up-to-date!\n"
     ]
    },
    {
     "data": {
      "text/plain": [
       "['deeds', 'reason', 'earthquake', 'may', 'allah', 'forgive', 'us']"
      ]
     },
     "execution_count": 21,
     "metadata": {},
     "output_type": "execute_result"
    }
   ],
   "source": [
    "nltk.download('punkt')\n",
    "train_df['text']=train_df.text.apply(word_tokenize)\n",
    "train_df['text'][0]\n"
   ]
  },
  {
   "cell_type": "markdown",
   "metadata": {
    "papermill": {
     "duration": 0.046774,
     "end_time": "2021-02-14T13:07:09.053661",
     "exception": false,
     "start_time": "2021-02-14T13:07:09.006887",
     "status": "completed"
    },
    "tags": []
   },
   "source": [
    "# **Lemmatization**"
   ]
  },
  {
   "cell_type": "code",
   "execution_count": 22,
   "metadata": {
    "execution": {
     "iopub.execute_input": "2021-02-14T13:07:09.154196Z",
     "iopub.status.busy": "2021-02-14T13:07:09.153580Z",
     "iopub.status.idle": "2021-02-14T13:07:12.095045Z",
     "shell.execute_reply": "2021-02-14T13:07:12.095572Z"
    },
    "papermill": {
     "duration": 2.995145,
     "end_time": "2021-02-14T13:07:12.095766",
     "exception": false,
     "start_time": "2021-02-14T13:07:09.100621",
     "status": "completed"
    },
    "tags": []
   },
   "outputs": [
    {
     "name": "stdout",
     "output_type": "stream",
     "text": [
      "[nltk_data] Downloading package wordnet to /usr/share/nltk_data...\n",
      "[nltk_data]   Package wordnet is already up-to-date!\n"
     ]
    },
    {
     "data": {
      "text/plain": [
       "0       [deed, reason, earthquake, may, allah, forgive...\n",
       "1           [forest, fire, near, la, ronge, sask, canada]\n",
       "2       [resident, asked, shelter, place, notified, of...\n",
       "3       [13000, people, receive, wildfire, evacuation,...\n",
       "4       [got, sent, photo, ruby, alaska, smoke, wildfi...\n",
       "                              ...                        \n",
       "7608    [two, giant, crane, holding, bridge, collapse,...\n",
       "7609    [ariaahrary, thetawniest, control, wild, fire,...\n",
       "7610    [m194, 0104, utc5km, volcano, hawaii, httptcoz...\n",
       "7611    [police, investigating, ebike, collided, car, ...\n",
       "7612    [latest, home, razed, northern, california, wi...\n",
       "Name: text, Length: 7613, dtype: object"
      ]
     },
     "execution_count": 22,
     "metadata": {},
     "output_type": "execute_result"
    }
   ],
   "source": [
    "nltk.download('wordnet')\n",
    "lemmatizer=WordNetLemmatizer()\n",
    "train_df['text']=train_df.text.apply(lambda x:[lemmatizer.lemmatize(word) for word in x])\n",
    "train_df.text"
   ]
  },
  {
   "cell_type": "code",
   "execution_count": 23,
   "metadata": {
    "execution": {
     "iopub.execute_input": "2021-02-14T13:07:12.239442Z",
     "iopub.status.busy": "2021-02-14T13:07:12.238422Z",
     "iopub.status.idle": "2021-02-14T13:07:12.241801Z",
     "shell.execute_reply": "2021-02-14T13:07:12.240832Z"
    },
    "papermill": {
     "duration": 0.076738,
     "end_time": "2021-02-14T13:07:12.241961",
     "exception": false,
     "start_time": "2021-02-14T13:07:12.165223",
     "status": "completed"
    },
    "tags": []
   },
   "outputs": [],
   "source": [
    "train_df.text= train_df.text.astype(str)"
   ]
  },
  {
   "cell_type": "code",
   "execution_count": 24,
   "metadata": {
    "execution": {
     "iopub.execute_input": "2021-02-14T13:07:12.355650Z",
     "iopub.status.busy": "2021-02-14T13:07:12.354718Z",
     "iopub.status.idle": "2021-02-14T13:07:12.358425Z",
     "shell.execute_reply": "2021-02-14T13:07:12.359049Z"
    },
    "papermill": {
     "duration": 0.061947,
     "end_time": "2021-02-14T13:07:12.359182",
     "exception": false,
     "start_time": "2021-02-14T13:07:12.297235",
     "status": "completed"
    },
    "tags": []
   },
   "outputs": [
    {
     "data": {
      "text/html": [
       "<div>\n",
       "<style scoped>\n",
       "    .dataframe tbody tr th:only-of-type {\n",
       "        vertical-align: middle;\n",
       "    }\n",
       "\n",
       "    .dataframe tbody tr th {\n",
       "        vertical-align: top;\n",
       "    }\n",
       "\n",
       "    .dataframe thead th {\n",
       "        text-align: right;\n",
       "    }\n",
       "</style>\n",
       "<table border=\"1\" class=\"dataframe\">\n",
       "  <thead>\n",
       "    <tr style=\"text-align: right;\">\n",
       "      <th></th>\n",
       "      <th>text</th>\n",
       "      <th>target</th>\n",
       "    </tr>\n",
       "  </thead>\n",
       "  <tbody>\n",
       "    <tr>\n",
       "      <th>0</th>\n",
       "      <td>['deed', 'reason', 'earthquake', 'may', 'allah...</td>\n",
       "      <td>1</td>\n",
       "    </tr>\n",
       "    <tr>\n",
       "      <th>1</th>\n",
       "      <td>['forest', 'fire', 'near', 'la', 'ronge', 'sas...</td>\n",
       "      <td>1</td>\n",
       "    </tr>\n",
       "    <tr>\n",
       "      <th>2</th>\n",
       "      <td>['resident', 'asked', 'shelter', 'place', 'not...</td>\n",
       "      <td>1</td>\n",
       "    </tr>\n",
       "    <tr>\n",
       "      <th>3</th>\n",
       "      <td>['13000', 'people', 'receive', 'wildfire', 'ev...</td>\n",
       "      <td>1</td>\n",
       "    </tr>\n",
       "    <tr>\n",
       "      <th>4</th>\n",
       "      <td>['got', 'sent', 'photo', 'ruby', 'alaska', 'sm...</td>\n",
       "      <td>1</td>\n",
       "    </tr>\n",
       "  </tbody>\n",
       "</table>\n",
       "</div>"
      ],
      "text/plain": [
       "                                                text  target\n",
       "0  ['deed', 'reason', 'earthquake', 'may', 'allah...       1\n",
       "1  ['forest', 'fire', 'near', 'la', 'ronge', 'sas...       1\n",
       "2  ['resident', 'asked', 'shelter', 'place', 'not...       1\n",
       "3  ['13000', 'people', 'receive', 'wildfire', 'ev...       1\n",
       "4  ['got', 'sent', 'photo', 'ruby', 'alaska', 'sm...       1"
      ]
     },
     "execution_count": 24,
     "metadata": {},
     "output_type": "execute_result"
    }
   ],
   "source": [
    "train_df.head()"
   ]
  },
  {
   "cell_type": "markdown",
   "metadata": {
    "papermill": {
     "duration": 0.048627,
     "end_time": "2021-02-14T13:07:12.455798",
     "exception": false,
     "start_time": "2021-02-14T13:07:12.407171",
     "status": "completed"
    },
    "tags": []
   },
   "source": [
    "# ** Creating the features and the target variables**"
   ]
  },
  {
   "cell_type": "code",
   "execution_count": 25,
   "metadata": {
    "execution": {
     "iopub.execute_input": "2021-02-14T13:07:12.557158Z",
     "iopub.status.busy": "2021-02-14T13:07:12.556065Z",
     "iopub.status.idle": "2021-02-14T13:07:12.561122Z",
     "shell.execute_reply": "2021-02-14T13:07:12.561715Z"
    },
    "papermill": {
     "duration": 0.057608,
     "end_time": "2021-02-14T13:07:12.561856",
     "exception": false,
     "start_time": "2021-02-14T13:07:12.504248",
     "status": "completed"
    },
    "tags": []
   },
   "outputs": [],
   "source": [
    "X=train_df.text\n",
    "Y=train_df.target\n",
    "X_test=test_df.text"
   ]
  },
  {
   "cell_type": "code",
   "execution_count": 26,
   "metadata": {
    "_kg_hide-input": false,
    "execution": {
     "iopub.execute_input": "2021-02-14T13:07:12.673399Z",
     "iopub.status.busy": "2021-02-14T13:07:12.672460Z",
     "iopub.status.idle": "2021-02-14T13:07:12.679380Z",
     "shell.execute_reply": "2021-02-14T13:07:12.680218Z"
    },
    "papermill": {
     "duration": 0.069315,
     "end_time": "2021-02-14T13:07:12.680457",
     "exception": false,
     "start_time": "2021-02-14T13:07:12.611142",
     "status": "completed"
    },
    "tags": []
   },
   "outputs": [],
   "source": [
    "#from sklearn.feature_extraction.text import TfidfVectorizer\n",
    "#from sklearn.pipeline import Pipeline\n",
    "#from sklearn.svm import SVC"
   ]
  },
  {
   "cell_type": "markdown",
   "metadata": {
    "papermill": {
     "duration": 0.055353,
     "end_time": "2021-02-14T13:07:12.805389",
     "exception": false,
     "start_time": "2021-02-14T13:07:12.750036",
     "status": "completed"
    },
    "tags": []
   },
   "source": [
    "# **Applying TFIDF (Term Frequency Inverse Document Frequency) Vectorizer to convert categorical features into numbers**"
   ]
  },
  {
   "cell_type": "code",
   "execution_count": 27,
   "metadata": {
    "execution": {
     "iopub.execute_input": "2021-02-14T13:07:12.948478Z",
     "iopub.status.busy": "2021-02-14T13:07:12.938191Z",
     "iopub.status.idle": "2021-02-14T13:07:13.132567Z",
     "shell.execute_reply": "2021-02-14T13:07:13.131981Z"
    },
    "papermill": {
     "duration": 0.278105,
     "end_time": "2021-02-14T13:07:13.132690",
     "exception": false,
     "start_time": "2021-02-14T13:07:12.854585",
     "status": "completed"
    },
    "tags": []
   },
   "outputs": [],
   "source": [
    "from sklearn.feature_extraction.text import TfidfVectorizer\n",
    "tfidf=TfidfVectorizer()\n",
    "x_train_tfidf = tfidf.fit_transform(X)\n"
   ]
  },
  {
   "cell_type": "markdown",
   "metadata": {
    "papermill": {
     "duration": 0.048583,
     "end_time": "2021-02-14T13:07:13.230010",
     "exception": false,
     "start_time": "2021-02-14T13:07:13.181427",
     "status": "completed"
    },
    "tags": []
   },
   "source": [
    "# **Applying Support Vector Machine Classifier**"
   ]
  },
  {
   "cell_type": "code",
   "execution_count": 28,
   "metadata": {
    "execution": {
     "iopub.execute_input": "2021-02-14T13:07:13.337267Z",
     "iopub.status.busy": "2021-02-14T13:07:13.336270Z",
     "iopub.status.idle": "2021-02-14T13:07:27.263785Z",
     "shell.execute_reply": "2021-02-14T13:07:27.262854Z"
    },
    "papermill": {
     "duration": 13.984868,
     "end_time": "2021-02-14T13:07:27.263943",
     "exception": false,
     "start_time": "2021-02-14T13:07:13.279075",
     "status": "completed"
    },
    "tags": []
   },
   "outputs": [
    {
     "data": {
      "text/plain": [
       "0.9726783134112702"
      ]
     },
     "execution_count": 28,
     "metadata": {},
     "output_type": "execute_result"
    }
   ],
   "source": [
    "np.random.seed(42)\n",
    "from sklearn.svm import SVC\n",
    "svc_clf=SVC()\n",
    "svc_clf.fit(x_train_tfidf,Y)\n",
    "svc_clf.score(x_train_tfidf,Y)"
   ]
  },
  {
   "cell_type": "code",
   "execution_count": 29,
   "metadata": {
    "_kg_hide-output": true,
    "execution": {
     "iopub.execute_input": "2021-02-14T13:07:27.370926Z",
     "iopub.status.busy": "2021-02-14T13:07:27.370262Z",
     "iopub.status.idle": "2021-02-14T13:07:40.056802Z",
     "shell.execute_reply": "2021-02-14T13:07:40.056214Z"
    },
    "papermill": {
     "duration": 12.742782,
     "end_time": "2021-02-14T13:07:40.057000",
     "exception": false,
     "start_time": "2021-02-14T13:07:27.314218",
     "status": "completed"
    },
    "tags": []
   },
   "outputs": [
    {
     "data": {
      "text/plain": [
       "0.996453434913963"
      ]
     },
     "execution_count": 29,
     "metadata": {},
     "output_type": "execute_result"
    }
   ],
   "source": [
    "np.random.seed(42)\n",
    "from sklearn.ensemble import RandomForestClassifier\n",
    "rf_clf=RandomForestClassifier()\n",
    "rf_clf.fit(x_train_tfidf,Y)\n",
    "rf_clf.score(x_train_tfidf,Y)"
   ]
  },
  {
   "cell_type": "code",
   "execution_count": 30,
   "metadata": {
    "_kg_hide-output": true,
    "execution": {
     "iopub.execute_input": "2021-02-14T13:07:40.164683Z",
     "iopub.status.busy": "2021-02-14T13:07:40.163769Z",
     "iopub.status.idle": "2021-02-14T13:08:38.038261Z",
     "shell.execute_reply": "2021-02-14T13:08:38.038798Z"
    },
    "papermill": {
     "duration": 57.931704,
     "end_time": "2021-02-14T13:08:38.038955",
     "exception": false,
     "start_time": "2021-02-14T13:07:40.107251",
     "status": "completed"
    },
    "tags": []
   },
   "outputs": [
    {
     "data": {
      "text/plain": [
       "0.9929068698279259"
      ]
     },
     "execution_count": 30,
     "metadata": {},
     "output_type": "execute_result"
    }
   ],
   "source": [
    "from mlxtend.classifier import StackingCVClassifier\n",
    "scv=StackingCVClassifier(classifiers=[svc_clf,rf_clf],meta_classifier= rf_clf)\n",
    "scv.fit(x_train_tfidf,Y)\n",
    "scv.score(x_train_tfidf,Y)"
   ]
  },
  {
   "cell_type": "code",
   "execution_count": 31,
   "metadata": {
    "execution": {
     "iopub.execute_input": "2021-02-14T13:08:38.147661Z",
     "iopub.status.busy": "2021-02-14T13:08:38.146965Z",
     "iopub.status.idle": "2021-02-14T13:08:38.188651Z",
     "shell.execute_reply": "2021-02-14T13:08:38.187850Z"
    },
    "papermill": {
     "duration": 0.099064,
     "end_time": "2021-02-14T13:08:38.188815",
     "exception": false,
     "start_time": "2021-02-14T13:08:38.089751",
     "status": "completed"
    },
    "tags": []
   },
   "outputs": [
    {
     "data": {
      "text/plain": [
       "0.9674241429134376"
      ]
     },
     "execution_count": 31,
     "metadata": {},
     "output_type": "execute_result"
    }
   ],
   "source": [
    "np.random.seed(42)\n",
    "from sklearn import linear_model\n",
    "rd_clf = linear_model.RidgeClassifier()\n",
    "rd_clf.fit(x_train_tfidf,Y)\n",
    "rd_clf.score(x_train_tfidf,Y)"
   ]
  },
  {
   "cell_type": "code",
   "execution_count": 32,
   "metadata": {
    "execution": {
     "iopub.execute_input": "2021-02-14T13:08:38.324431Z",
     "iopub.status.busy": "2021-02-14T13:08:38.319051Z",
     "iopub.status.idle": "2021-02-14T13:08:39.479011Z",
     "shell.execute_reply": "2021-02-14T13:08:39.478292Z"
    },
    "papermill": {
     "duration": 1.234886,
     "end_time": "2021-02-14T13:08:39.479137",
     "exception": false,
     "start_time": "2021-02-14T13:08:38.244251",
     "status": "completed"
    },
    "tags": []
   },
   "outputs": [
    {
     "data": {
      "text/plain": [
       "<3263x20866 sparse matrix of type '<class 'numpy.float64'>'\n",
       "\twith 25102 stored elements in Compressed Sparse Row format>"
      ]
     },
     "execution_count": 32,
     "metadata": {},
     "output_type": "execute_result"
    }
   ],
   "source": [
    "\n",
    "X_test=X_test.apply(lambda x: x.lower())\n",
    "X_test=X_test.apply(con)\n",
    "X_test=X_test.apply(remove_sp)\n",
    "#test_df.text=test_df.text.apply(lambda x : \" \".join(x for x in x.split() if x not in punctuations))\n",
    "X_test=X_test.apply(lambda x : \" \".join(x for x in x.split() if x not in stopword_list))\n",
    "X_test=X_test.apply(word_tokenize)\n",
    "X_test=X_test.apply(lambda x:[lemmatizer.lemmatize(word) for word in x])\n",
    "X_test= X_test.astype(str)\n",
    "x_test_tfidf = tfidf.transform(X_test)\n",
    "X_test\n",
    "x_test_tfidf"
   ]
  },
  {
   "cell_type": "code",
   "execution_count": 33,
   "metadata": {
    "execution": {
     "iopub.execute_input": "2021-02-14T13:08:39.589927Z",
     "iopub.status.busy": "2021-02-14T13:08:39.589179Z",
     "iopub.status.idle": "2021-02-14T13:08:39.595382Z",
     "shell.execute_reply": "2021-02-14T13:08:39.596559Z"
    },
    "papermill": {
     "duration": 0.065732,
     "end_time": "2021-02-14T13:08:39.596752",
     "exception": false,
     "start_time": "2021-02-14T13:08:39.531020",
     "status": "completed"
    },
    "tags": []
   },
   "outputs": [
    {
     "data": {
      "text/plain": [
       "array([1, 1, 1, ..., 1, 1, 1])"
      ]
     },
     "execution_count": 33,
     "metadata": {},
     "output_type": "execute_result"
    }
   ],
   "source": [
    "predictions=rd_clf.predict(x_test_tfidf)\n",
    "predictions"
   ]
  },
  {
   "cell_type": "code",
   "execution_count": 34,
   "metadata": {
    "execution": {
     "iopub.execute_input": "2021-02-14T13:08:39.708749Z",
     "iopub.status.busy": "2021-02-14T13:08:39.707784Z",
     "iopub.status.idle": "2021-02-14T13:08:39.996553Z",
     "shell.execute_reply": "2021-02-14T13:08:39.995103Z"
    },
    "papermill": {
     "duration": 0.347452,
     "end_time": "2021-02-14T13:08:39.996695",
     "exception": false,
     "start_time": "2021-02-14T13:08:39.649243",
     "status": "completed"
    },
    "tags": []
   },
   "outputs": [],
   "source": [
    "output = pd.DataFrame({'Id': test_df.id, 'Target': predictions})\n",
    "output.to_csv('my_submission.csv', index=False)"
   ]
  },
  {
   "cell_type": "code",
   "execution_count": null,
   "metadata": {
    "papermill": {
     "duration": 0.052448,
     "end_time": "2021-02-14T13:08:40.101709",
     "exception": false,
     "start_time": "2021-02-14T13:08:40.049261",
     "status": "completed"
    },
    "tags": []
   },
   "outputs": [],
   "source": []
  }
 ],
 "metadata": {
  "kernelspec": {
   "display_name": "Python 3",
   "language": "python",
   "name": "python3"
  },
  "language_info": {
   "codemirror_mode": {
    "name": "ipython",
    "version": 3
   },
   "file_extension": ".py",
   "mimetype": "text/x-python",
   "name": "python",
   "nbconvert_exporter": "python",
   "pygments_lexer": "ipython3",
   "version": "3.7.6"
  },
  "papermill": {
   "duration": 118.471798,
   "end_time": "2021-02-14T13:08:40.263422",
   "environment_variables": {},
   "exception": null,
   "input_path": "__notebook__.ipynb",
   "output_path": "__notebook__.ipynb",
   "parameters": {},
   "start_time": "2021-02-14T13:06:41.791624",
   "version": "2.1.0"
  }
 },
 "nbformat": 4,
 "nbformat_minor": 4
}
